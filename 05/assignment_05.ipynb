{
 "cells": [
  {
   "cell_type": "markdown",
   "metadata": {},
   "source": [
    "# Least square problem for polynomial regression "
   ]
  },
  {
   "cell_type": "markdown",
   "metadata": {},
   "source": [
    "## import library"
   ]
  },
  {
   "cell_type": "code",
   "execution_count": 3,
   "metadata": {},
   "outputs": [],
   "source": [
    "import numpy as np\n",
    "import matplotlib.image as img\n",
    "import matplotlib.pyplot as plt\n",
    "import matplotlib.colors as colors"
   ]
  },
  {
   "cell_type": "markdown",
   "metadata": {},
   "source": [
    "## load point data "
   ]
  },
  {
   "cell_type": "code",
   "execution_count": 17,
   "metadata": {},
   "outputs": [
    {
     "name": "stdout",
     "output_type": "stream",
     "text": [
      "[[-10.        -9.97998   -9.95996  ...   9.95996    9.97998   10.      ]\n",
      " [  1.271965   1.263511   1.254952 ...  -0.254952  -0.263511  -0.271965]]\n",
      "1000\n"
     ]
    }
   ],
   "source": [
    "filename    = 'assignment_05_data.csv'\n",
    "data        = np.loadtxt(filename, delimiter = ',')\n",
    "print(data)\n",
    "print(data.shape[1])"
   ]
  },
  {
   "cell_type": "code",
   "execution_count": 1,
   "metadata": {},
   "outputs": [
    {
     "ename": "NameError",
     "evalue": "name 'np' is not defined",
     "output_type": "error",
     "traceback": [
      "\u001b[1;31m---------------------------------------------------------------------------\u001b[0m",
      "\u001b[1;31mNameError\u001b[0m                                 Traceback (most recent call last)",
      "\u001b[1;32m<ipython-input-1-f0c4df464211>\u001b[0m in \u001b[0;36m<module>\u001b[1;34m\u001b[0m\n\u001b[0;32m      1\u001b[0m \u001b[0mfilename\u001b[0m    \u001b[1;33m=\u001b[0m \u001b[1;34m'assignment_05_data.csv'\u001b[0m\u001b[1;33m\u001b[0m\u001b[1;33m\u001b[0m\u001b[0m\n\u001b[1;32m----> 2\u001b[1;33m \u001b[0mdata\u001b[0m        \u001b[1;33m=\u001b[0m \u001b[0mnp\u001b[0m\u001b[1;33m.\u001b[0m\u001b[0mloadtxt\u001b[0m\u001b[1;33m(\u001b[0m\u001b[0mfilename\u001b[0m\u001b[1;33m,\u001b[0m \u001b[0mdelimiter\u001b[0m \u001b[1;33m=\u001b[0m \u001b[1;34m','\u001b[0m\u001b[1;33m)\u001b[0m\u001b[1;33m\u001b[0m\u001b[1;33m\u001b[0m\u001b[0m\n\u001b[0m\u001b[0;32m      3\u001b[0m \u001b[1;33m\u001b[0m\u001b[0m\n\u001b[0;32m      4\u001b[0m \u001b[0mx\u001b[0m   \u001b[1;33m=\u001b[0m \u001b[0mdata\u001b[0m\u001b[1;33m[\u001b[0m\u001b[1;36m0\u001b[0m\u001b[1;33m,\u001b[0m \u001b[1;33m:\u001b[0m\u001b[1;33m]\u001b[0m    \u001b[1;31m# independent variable\u001b[0m\u001b[1;33m\u001b[0m\u001b[1;33m\u001b[0m\u001b[0m\n\u001b[0;32m      5\u001b[0m \u001b[0my\u001b[0m   \u001b[1;33m=\u001b[0m \u001b[0mdata\u001b[0m\u001b[1;33m[\u001b[0m\u001b[1;36m1\u001b[0m\u001b[1;33m,\u001b[0m \u001b[1;33m:\u001b[0m\u001b[1;33m]\u001b[0m    \u001b[1;31m# dependent variable\u001b[0m\u001b[1;33m\u001b[0m\u001b[1;33m\u001b[0m\u001b[0m\n",
      "\u001b[1;31mNameError\u001b[0m: name 'np' is not defined"
     ]
    }
   ],
   "source": [
    "filename    = 'assignment_05_data.csv'\n",
    "data        = np.loadtxt(filename, delimiter = ',')\n",
    "\n",
    "x   = data[0, :data.shape[1]]    # independent variable\n",
    "y   = data[1, :data.shape[1]]    # dependent variable\n",
    "\n",
    "x2  = x[::10]       \n",
    "y2  = y[::10]\n",
    "\n",
    "plt.figure(figsize=(16,6))\n",
    "\n",
    "plt.subplot(121)\n",
    "plt.plot(x, y, '-', color = 'blue')\n",
    "plt.title('data points')\n",
    "\n",
    "plt.subplot(122)\n",
    "plt.plot(x2, y2, '-', color = 'blue')\n",
    "plt.plot(x2, y2, 'o', color = 'red')\n",
    "plt.title('data points (every 10 points)')\n",
    "\n",
    "plt.tight_layout()\n",
    "plt.show()"
   ]
  },
  {
   "cell_type": "code",
   "execution_count": null,
   "metadata": {},
   "outputs": [],
   "source": [
    "#\n",
    "# A : [ x_1^0, x_1^1, ... , x_1^{p-1} ; x_2^0, x_2^1, ... , x_2^{p-1} ; ... ; x_n^0, x_n^1, ... , x_n^{p-1}]\n",
    "#\n",
    "def construct_matrix_A(x, p):\n",
    "\n",
    "    # use functions including : np.power\n",
    "\n",
    "    return A\n",
    "\n",
    "#\n",
    "# x : independent variable\n",
    "# y : dependent variable\n",
    "# p : power of the polinomial (theta_0 * x^0, theta_1 * x^1, ..., theta_{p-1} * x^{p-1})\n",
    "# alpha : coefficient for the regularization term : \\| theta \\|_2^2\n",
    "#\n",
    "def solve_polynomial_regression(x, y, p, alpha = 0):\n",
    "    \n",
    "    # use functions including : np.identity, np.matmul, np.linalg.inv \n",
    "\n",
    "    return h\n",
    "\n",
    "h_01        = solve_polynomial_regression(x, y, 1)\n",
    "h_02        = solve_polynomial_regression(x, y, 2)\n",
    "h_04        = solve_polynomial_regression(x, y, 4)\n",
    "h_08        = solve_polynomial_regression(x, y, 8)\n",
    "h_16        = solve_polynomial_regression(x, y, 16)\n",
    "h_32        = solve_polynomial_regression(x, y, 32)\n",
    "\n",
    "h_24_0      = solve_polynomial_regression(x, y, 24, 0)\n",
    "h_24_00001  = solve_polynomial_regression(x, y, 24, 0.0001)\n",
    "h_24_0001   = solve_polynomial_regression(x, y, 24, 0.001)\n",
    "h_24_001    = solve_polynomial_regression(x, y, 24, 0.01)\n",
    "h_24_01     = solve_polynomial_regression(x, y, 24, 0.1)\n",
    "h_24_1      = solve_polynomial_regression(x, y, 24, 1)"
   ]
  },
  {
   "cell_type": "code",
   "execution_count": null,
   "metadata": {},
   "outputs": [],
   "source": [
    "def plot_polynomial_regression_3x2(x, y, h_01, title_01, h_02, title_02, h_04, title_04, h_08, title_08, h_16, title_16, h_32, title_32):\n",
    "\n",
    "    plt.figure(figsize=(16,18))\n",
    "\n",
    "    plt.subplot(321)\n",
    "    plt.plot(x, y, '-', color='blue')\n",
    "    plt.plot(x, h_01, '-', color='red')\n",
    "    plt.title(title_01)\n",
    "\n",
    "    plt.subplot(322)\n",
    "    plt.plot(x, y, '-', color='blue')\n",
    "    plt.plot(x, h_02, '-', color='red')\n",
    "    plt.title(title_02)\n",
    "\n",
    "    plt.subplot(323)\n",
    "    plt.plot(x, y, '-', color='blue')\n",
    "    plt.plot(x, h_04, '-', color='red')\n",
    "    plt.title(title_04)\n",
    "\n",
    "    plt.subplot(324)\n",
    "    plt.plot(x, y, '-', color='blue')\n",
    "    plt.plot(x, h_08, '-', color='red')\n",
    "    plt.title(title_08)\n",
    "\n",
    "    plt.subplot(325)\n",
    "    plt.plot(x, y, '-', color='blue')\n",
    "    plt.plot(x, h_16, '-', color='red')\n",
    "    plt.title(title_16)\n",
    "\n",
    "    plt.subplot(326)\n",
    "    plt.plot(x, y, '-', color='blue')\n",
    "    plt.plot(x, h_32, '-', color='red')\n",
    "    plt.title(title_32)\n",
    "\n",
    "    plt.tight_layout()\n",
    "    plt.show()"
   ]
  },
  {
   "cell_type": "markdown",
   "metadata": {},
   "source": [
    "# * * * * * * * * * * * * * * * * * * * * * * * * * * * * * * * * *"
   ]
  },
  {
   "cell_type": "markdown",
   "metadata": {},
   "source": [
    "# * results"
   ]
  },
  {
   "cell_type": "markdown",
   "metadata": {},
   "source": [
    "# * * * * * * * * * * * * * * * * * * * * * * * * * * * * * * * * *"
   ]
  },
  {
   "cell_type": "markdown",
   "metadata": {},
   "source": [
    "### # 01. plot the input data in blue and the polynomial approximations with varying degrees in red ($p = 1, 2, 4, 8, 16, 32$)"
   ]
  },
  {
   "cell_type": "code",
   "execution_count": null,
   "metadata": {},
   "outputs": [],
   "source": [
    "plot_polynomial_regression_3x2(x, y, h_01, '$p = 01$', h_02, '$p = 02$', h_04, '$p = 04$', h_08, '$p = 08$', h_16, '$p = 16$', h_32, '$p = 32$')"
   ]
  },
  {
   "cell_type": "markdown",
   "metadata": {},
   "source": [
    "### # 02. plot the input data in blue and the polynomial approximations with varying regularization parameters at $p = 24$ ($\\alpha = 0, 0.0001, 0.001, 0.01, 0.1, 1$)"
   ]
  },
  {
   "cell_type": "code",
   "execution_count": null,
   "metadata": {},
   "outputs": [],
   "source": [
    "plot_polynomial_regression_3x2(x, y, h_24_0, '$p = 24, alpha = 0$', h_24_00001, '$p = 24, alpha = 0.0001$', h_24_0001, '$p = 24, alpha = 0.001$', h_24_001, '$p = 24, alpha = 0.01$', h_24_01, '$p = 24, alpha = 0.1$', h_24_1, '$p = 24, alpha = 1$')"
   ]
  }
 ],
 "metadata": {
  "kernelspec": {
   "display_name": "Python 3",
   "language": "python",
   "name": "python3"
  },
  "language_info": {
   "codemirror_mode": {
    "name": "ipython",
    "version": 3
   },
   "file_extension": ".py",
   "mimetype": "text/x-python",
   "name": "python",
   "nbconvert_exporter": "python",
   "pygments_lexer": "ipython3",
   "version": "3.7.4"
  }
 },
 "nbformat": 4,
 "nbformat_minor": 2
}
